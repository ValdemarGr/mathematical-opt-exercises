{
 "cells": [
  {
   "cell_type": "markdown",
   "metadata": {},
   "source": [
    "# Assignment 1 - class scheduling"
   ]
  },
  {
   "cell_type": "markdown",
   "metadata": {},
   "source": [
    "## Initialization"
   ]
  },
  {
   "cell_type": "code",
   "execution_count": 187,
   "metadata": {},
   "outputs": [],
   "source": [
    "import matplotlib.pyplot as plt"
   ]
  },
  {
   "cell_type": "markdown",
   "metadata": {},
   "source": [
    "### Utility functions"
   ]
  },
  {
   "cell_type": "code",
   "execution_count": 183,
   "metadata": {},
   "outputs": [],
   "source": [
    "class Timeslot():\n",
    "    def __init__(self, start, end, color, title):\n",
    "        self.start = start\n",
    "        self.end = end\n",
    "        self.color = color\n",
    "        self.title = title\n",
    "\n",
    "def applyTimeslots(offset, limit, timeslots, ax):\n",
    "    for timeslot in timeslots:\n",
    "        ax.fill_between([offset, limit], [timeslot.start + 0.05, timeslot.start + 0.05], [timeslot.end - 0.05,timeslot.end - 0.05], color=timeslot.color, edgecolor='k', linewidth=0.5, alpha=0.4\n",
    "                        )\n",
    "        ax.text(float(limit - offset) / 2 + offset, (timeslot.start + timeslot.end) / 2, timeslot.title, ha=\"center\", va=\"center\", fontsize=12)\n",
    "        \n",
    "def plotDay(timeslots):\n",
    "    width = 10\n",
    "    height = 8\n",
    "    \n",
    "    fig = plt.figure(figsize=(width, height))\n",
    "    \n",
    "    margin = 0.3\n",
    "    \n",
    "    ax = fig.add_subplot(111)\n",
    "    ax.yaxis.grid()\n",
    "    ax.set_ylabel(\"Time\")\n",
    "    ax.axes.get_xaxis().set_visible(False)\n",
    "    fig.gca().invert_yaxis()\n",
    "\n",
    "    applyTimeslots(margin, width - margin, timeslots, ax)\n",
    "    \n",
    "    ax.set_title(\"Day\")\n",
    "    \n",
    "    plt.show()\n",
    "    \n",
    "def plotWeek(timeslotDays):\n",
    "    width = 15\n",
    "    height = 8\n",
    "    weekdays = 7\n",
    "    \n",
    "    fig = plt.figure(figsize=(width, height))\n",
    "    \n",
    "    margin = 0.3\n",
    "    \n",
    "    ax = fig.add_subplot(111)\n",
    "    ax.yaxis.grid()\n",
    "    ax.set_ylabel(\"Time\")\n",
    "    #ax.axes.get_xaxis().set_visible(False)\n",
    "    \n",
    "    fig.gca().invert_yaxis()\n",
    "    \n",
    "    dayWidth = width / weekdays\n",
    "    \n",
    "    def genDays(): \n",
    "        days = [\"Monday\", \"Tuesday\", \"Wensday\", \"Thursday\", \"Friday\", \"Saturday\", \"Sunday\"]\n",
    "\n",
    "        for i, day in enumerate(days):\n",
    "            yield (day, i * dayWidth + (dayWidth / 2))\n",
    "            \n",
    "    tickedDays = list(genDays())\n",
    "    \n",
    "    plt.xticks(list(map(lambda x: x[1], tickedDays)), list(map(lambda x: x[0], tickedDays)))\n",
    "    \n",
    "    for i, dayTimeslots in enumerate(timeslotDays):\n",
    "        offset = i * dayWidth\n",
    "        \n",
    "        applyTimeslots(offset, offset + dayWidth, dayTimeslots, ax)\n",
    "\n",
    "    \n",
    "    ax.set_title(\"Day\")\n",
    "    \n",
    "    plt.show()\n",
    "    \n",
    "    "
   ]
  },
  {
   "cell_type": "code",
   "execution_count": 184,
   "metadata": {},
   "outputs": [
    {
     "data": {
      "image/png": "[encoded data removed]",
      "text/plain": [
       "<Figure size 1080x576 with 1 Axes>"
      ]
     },
     "metadata": {
      "needs_background": "light"
     },
     "output_type": "display_data"
    }
   ],
   "source": [
    "slots1 = [Timeslot(0, 4, \"salmon\", \"work\"), Timeslot(4, 7, \"Blue\", \"work\"), Timeslot(7, 8, \"Green\", \"work\")]\n",
    "slots2 = []\n",
    "slots3 = [Timeslot(2, 4, \"salmon\", \"work\"), Timeslot(6, 8, \"Blue\", \"work\")]\n",
    "slots4 = []\n",
    "slots5 = []\n",
    "slots6 = [Timeslot(5, 9, \"salmon\", \"work\")]\n",
    "slots7 = []\n",
    "\n",
    "plotWeek([slots1, slots2, slots3, slots4, slots5, slots6, slots7])"
   ]
  },
  {
   "cell_type": "markdown",
   "metadata": {},
   "source": [
    "## Model"
   ]
  },
  {
   "cell_type": "markdown",
   "metadata": {},
   "source": [
    "## Initial description"
   ]
  },
  {
   "cell_type": "markdown",
   "metadata": {},
   "source": [
    "We have:\n",
    "* $P = (h,d,w)| h \\in \\text{Hours, } d \\in \\text{Days, } w \\in \\text{Weeks}$ \n",
    "* Rooms $R$\n",
    "* Classes $E$ with duration $\\ell(e), e \\in E$\n",
    "* Presedence digraph $D = (E, A)\\text{, } uv \\in A \\text{ for } u, v \\in E$\n",
    "* Students $S$ and teachers $T$ with:\n",
    "    * Enrollments $Q = E_s \\subset E | s \\in S$\n",
    "    * Teaching duties $D = D_t \\subset E | t \\in T$\n",
    "    * Unavailabilites $\\mathcal{U} = U_t \\subset P | t \\in T$\n",
    "* Preassignment $M = (e,r,p) | e \\in E, r \\in R, p \\in P$"
   ]
  },
  {
   "cell_type": "markdown",
   "metadata": {},
   "source": [
    "## Model interpretation"
   ]
  },
  {
   "cell_type": "markdown",
   "metadata": {},
   "source": [
    "There should not be more than one event per room for the designated time.\n",
    "$$x_{erp} \\in \\{0, 1\\}$$\n",
    "$$\\sum_{p \\in P, r \\in R} x_{erp} = 1, \\forall e \\in E$$"
   ]
  },
  {
   "cell_type": "markdown",
   "metadata": {},
   "source": [
    "An event should use the whole timeslot.\n",
    "$$\\sum_{r \\in R} \\sum_{(h,d,w) \\in P} \\sum^{\\ell(e)}_{i=0} x_{er(h + i,d,w)} = \\ell(e), \\forall e \\in E$$\n",
    "For every event, there must exist a sum of successive times"
   ]
  },
  {
   "cell_type": "markdown",
   "metadata": {},
   "source": [
    "$$\\sum_{e \\in E} \\, \\sum^t_{i=max(0, t - \\ell(e) + 1} x_{e,r,(i,d,w)} \\leq 1, \\, \\forall t \\in T, \\, \\forall r \\in R$$"
   ]
  },
  {
   "cell_type": "markdown",
   "metadata": {},
   "source": [
    "Two rooms may never be occupied at the same time.\n",
    "$$\\sum_{r \\in R, \\, (h,d,w) \\in P} x_{erp}= 1$$"
   ]
  },
  {
   "cell_type": "markdown",
   "metadata": {},
   "source": [
    "A teacher may not teach two classes at the same time.\n",
    "$$\\sum t_{hdw} = 1, \\forall h \\in H$$"
   ]
  },
  {
   "cell_type": "markdown",
   "metadata": {},
   "source": [
    "The teachers must teach at the preassigned times. ??? removed from assignment.\n",
    "$$e_m = 1, \\forall m \\in M$$\n",
    "$$r_m = 1, \\forall m \\in M$$\n",
    "$$p_m = 1, \\forall m \\in M$$"
   ]
  },
  {
   "cell_type": "markdown",
   "metadata": {},
   "source": [
    "There is at most one event per day per course.\n",
    "$$\\sum e_{dc} \\leq 1, \\forall d \\in D, \\, \\forall c \\in C$$"
   ]
  },
  {
   "cell_type": "markdown",
   "metadata": {},
   "source": [
    "Classes must take presedence (day for class $u$ must be before day for class $v$, in week $w$ (I am unsure if the presedence graph takes weeks into account, so I'm explicit)).\n",
    "$$d_{uw} < d_{vw}, \\forall uv \\in A, \\, (\\_, d, w) \\in P, \\, u,v \\in E $$"
   ]
  },
  {
   "cell_type": "markdown",
   "metadata": {},
   "source": [
    "Teachers may not be allocated when not available.\n",
    "$$t_{hdw} = 0, \\, (h,d,w) \\in U_t, \\, t \\in T $$"
   ]
  },
  {
   "cell_type": "markdown",
   "metadata": {},
   "source": [
    "Teachers should teach their respective class, thus a teacher should be allocated at the same time as a given class they teach.\n",
    "$$t = 1 \\land e  = 1, \\, \\forall e \\in D_t, \\, t \\in T$$"
   ]
  },
  {
   "cell_type": "markdown",
   "metadata": {},
   "source": [
    "Students should (try to) attend a class, this is the first soft constraint since overlapping classes cannot be avoided.\\\n",
    "We use a variable to express how many classes a student is attending at once, which should be minimized.\\\n",
    "First we express the amount of overlapping classes at a given time.\n",
    "$$c_{s,(h,d,w)} = \\sum e_{(h,d,w)} - 1, \\, e \\in Q_s$$\n",
    "Then we do all time + student combinations.\n",
    "$$a = \\sum c_{s,(h,d,w)}, \\, s \\in S, \\, (h,d,w) \\in P$$"
   ]
  },
  {
   "cell_type": "markdown",
   "metadata": {},
   "source": [
    "## Code"
   ]
  },
  {
   "cell_type": "markdown",
   "metadata": {},
   "source": [
    "### Initilization"
   ]
  },
  {
   "cell_type": "code",
   "execution_count": 190,
   "metadata": {},
   "outputs": [],
   "source": [
    "import pyomo.environ as po\n",
    "import src.data as imp\n",
    "\n",
    "dataImporter = imp.Data(\"data/small\")\n",
    "\n",
    "slots = dataImporter.slots\n",
    "banned = dataImporter.banned\n",
    "events = dataImporter.events\n",
    "teachers = dataImporter.teachers\n",
    "students = dataImporter.students"
   ]
  },
  {
   "cell_type": "code",
   "execution_count": 191,
   "metadata": {},
   "outputs": [],
   "source": [
    "def prepareModel():\n",
    "    m = po.ConcreteModel(\"timetable\")"
   ]
  },
  {
   "cell_type": "code",
   "execution_count": null,
   "metadata": {},
   "outputs": [],
   "source": []
  }
 ],
 "metadata": {
  "kernelspec": {
   "display_name": "Python 3",
   "language": "python",
   "name": "python3"
  },
  "language_info": {
   "codemirror_mode": {
    "name": "ipython",
    "version": 3
   },
   "file_extension": ".py",
   "mimetype": "text/x-python",
   "name": "python",
   "nbconvert_exporter": "python",
   "pygments_lexer": "ipython3",
   "version": "3.7.7"
  }
 },
 "nbformat": 4,
 "nbformat_minor": 4
}
