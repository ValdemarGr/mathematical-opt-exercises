{
 "cells": [
  {
   "cell_type": "markdown",
   "metadata": {},
   "source": [
    "# Assignment 1 - class scheduling"
   ]
  },
  {
   "cell_type": "markdown",
   "metadata": {},
   "source": [
    "## Initialization"
   ]
  },
  {
   "cell_type": "code",
   "execution_count": 33,
   "metadata": {},
   "outputs": [],
   "source": [
    "import matplotlib.pyplot as plt\n",
    "\n",
    "class Timeslot():\n",
    "    def __init__(self, start, end, color, title):\n",
    "        self.start = start\n",
    "        self.end = end\n",
    "        self.color = color\n",
    "        self.title = title\n",
    "\n",
    "def applyTimeslots(offset, limit, timeslots, ax):\n",
    "    for timeslot in timeslots:\n",
    "        ax.fill_between([offset + 0.05, limit - 0.05], [timeslot.start + 0.05, timeslot.start + 0.05], [timeslot.end - 0.05,timeslot.end - 0.05], color=timeslot.color, edgecolor='k', linewidth=0.5, alpha=0.4\n",
    "                        )\n",
    "        ax.text(float(limit - offset) / 2 + offset, (timeslot.start + timeslot.end) / 2, timeslot.title, ha=\"center\", va=\"center\", fontsize=12)\n",
    "        \n",
    "def plotDay(timeslots):\n",
    "    width = 10\n",
    "    height = 8\n",
    "    \n",
    "    fig = plt.figure(figsize=(width, height))\n",
    "    \n",
    "    margin = 0.3\n",
    "    \n",
    "    ax = fig.add_subplot(111)\n",
    "    ax.yaxis.grid()\n",
    "    ax.set_ylabel(\"Time\")\n",
    "    ax.axes.get_xaxis().set_visible(False)\n",
    "    fig.gca().invert_yaxis()\n",
    "\n",
    "    applyTimeslots(margin, width - margin, timeslots, ax)\n",
    "    \n",
    "    ax.set_title(\"Day\")\n",
    "    \n",
    "    plt.show()\n",
    "    \n",
    "def plotWeek(timeslotDays, dayStartAndEnd = None):\n",
    "    width = 15\n",
    "    height = 8\n",
    "    weekdays = 7\n",
    "    \n",
    "    fig = plt.figure(figsize=(width, height))\n",
    "    \n",
    "    margin = 0.3\n",
    "    \n",
    "    ax = fig.add_subplot(111)\n",
    "    ax.yaxis.grid()\n",
    "    \n",
    "    if dayStartAndEnd != None:\n",
    "        (start, end) = dayStartAndEnd\n",
    "        \n",
    "        plt.yticks(range(start, end + 1))\n",
    "        fig.gca().set_ylim([start,end])\n",
    "    \n",
    "    ax.set_ylabel(\"Time\")\n",
    "    #ax.axes.get_xaxis().set_visible(False)\n",
    "    \n",
    "    fig.gca().invert_yaxis()\n",
    "    \n",
    "    dayWidth = width / weekdays\n",
    "    \n",
    "    def genDays(): \n",
    "        days = [\"Monday\", \"Tuesday\", \"Wensday\", \"Thursday\", \"Friday\", \"Saturday\", \"Sunday\"]\n",
    "        \n",
    "        \n",
    "        fig.gca().set_xlim([0,len(days)])\n",
    "        \n",
    "\n",
    "        for i, day in enumerate(days):\n",
    "            yield (day, i * dayWidth + (dayWidth / 2))\n",
    "            \n",
    "    tickedDays = list(genDays())\n",
    "    \n",
    "    plt.xticks(list(map(lambda x: x[1], tickedDays)), list(map(lambda x: x[0], tickedDays)))\n",
    "    \n",
    "    for i, dayTimeslots in enumerate(timeslotDays):\n",
    "        offset = i * dayWidth\n",
    "        \n",
    "        applyTimeslots(offset, offset + dayWidth, dayTimeslots, ax)\n",
    "\n",
    "    \n",
    "    ax.set_title(\"Week\")\n",
    "    \n",
    "    plt.show()\n",
    "    \n",
    "    "
   ]
  },
  {
   "cell_type": "code",
   "execution_count": 2,
   "metadata": {},
   "outputs": [
    {
     "data": {
      "image/png": "[encoded data removed]",
      "text/plain": [
       "<Figure size 1080x576 with 1 Axes>"
      ]
     },
     "metadata": {
      "needs_background": "light"
     },
     "output_type": "display_data"
    }
   ],
   "source": [
    "slots1 = [Timeslot(0, 4, \"salmon\", \"work\"), Timeslot(4, 7, \"Blue\", \"work\"), Timeslot(7, 8, \"Green\", \"work\")]\n",
    "slots2 = []\n",
    "slots3 = [Timeslot(2, 4, \"salmon\", \"work\"), Timeslot(6, 8, \"Blue\", \"work\")]\n",
    "slots4 = []\n",
    "slots5 = []\n",
    "slots6 = [Timeslot(5, 9, \"salmon\", \"work\")]\n",
    "slots7 = []\n",
    "\n",
    "plotWeek([slots1, slots2, slots3, slots4, slots5, slots6, slots7], (0, 18))"
   ]
  },
  {
   "cell_type": "markdown",
   "metadata": {},
   "source": [
    "## Model"
   ]
  },
  {
   "cell_type": "markdown",
   "metadata": {},
   "source": [
    "## Initial description"
   ]
  },
  {
   "cell_type": "markdown",
   "metadata": {},
   "source": [
    "We have:\n",
    "* $P = (h,d,w)| h \\in \\text{Hours, } d \\in \\text{Days, } w \\in \\text{Weeks}$ \n",
    "* Rooms $R$\n",
    "* Classes $E$ with duration $\\ell(e), e \\in E$\n",
    "* Presedence digraph $D = (E, A)\\text{, } uv \\in A \\text{ for } u, v \\in E$\n",
    "* Students $S$ and teachers $T$ with:\n",
    "    * Enrollments $Q = E_s \\subset E | s \\in S$\n",
    "    * Teaching duties $D = D_t \\subset E | t \\in T$\n",
    "    * Unavailabilites $\\mathcal{U} = U_t \\subset P | t \\in T$\n",
    "    \n",
    "Additionally I will use $B_r$ as the collection of busy times for a given room, eg $B = \\{ B_r \\subset P \\,|\\, r \\in R \\}$"
   ]
  },
  {
   "cell_type": "markdown",
   "metadata": {},
   "source": [
    "## Model interpretation"
   ]
  },
  {
   "cell_type": "markdown",
   "metadata": {},
   "source": [
    "### Hard constraints"
   ]
  },
  {
   "cell_type": "markdown",
   "metadata": {},
   "source": [
    "All classes should be allocated in their designated weeks.\n",
    "$$x_{erp} \\in \\{0, 1\\}$$\n",
    "$$\\sum_{(h,d,w) \\in P, r \\in R} x_{e,r,(h,d,week(e))} = 1, \\forall e \\in E$$"
   ]
  },
  {
   "cell_type": "markdown",
   "metadata": {},
   "source": [
    "Classes should never overlap and range their full duration.\n",
    "$$\\sum_{e \\in E} \\, \\sum^h_{i=max(0, h - \\ell(e) + 1)} x_{e,r,(i,d,w)} \\leq 1, \\, \\forall (h,d,w) \\in P, \\, \\forall r \\in R$$"
   ]
  },
  {
   "cell_type": "markdown",
   "metadata": {},
   "source": [
    "A teacher may not teach two classes at the same time, no more than one room may ever be occupied by a class that requires the same teacher within the entire timeframe of a lecture.\n",
    "$$\\sum_{e \\in d_e} \\, \\sum_{r \\in R} \\, \\sum^h_{i=max(0, h - \\ell(e) + 1)} x_{e,r,(i,d,w)} \\leq 1, \\, \\forall (h,d,w) \\in P, \\, \\forall d_e\\in D$$"
   ]
  },
  {
   "cell_type": "markdown",
   "metadata": {},
   "source": [
    "A room should never be occupied during a busy period.\n",
    "$$\\sum^h_{i=max(0, h - \\ell(e) + 1)}  x_{e,r,(i,d,w)} = 0 ,\\, \\forall (h,d,w) \\in B_r ,\\, \\forall e \\in E ,\\, \\forall r \\in R$$"
   ]
  },
  {
   "cell_type": "markdown",
   "metadata": {},
   "source": [
    "The presedence graph should be followed, basically we get the \"activation\" day, if the class is allocated in day $3$ its binary value will be $1$, thus the allocated day will be $1*3$.\n",
    "The difference between the in-arc vertex's day in $e_1$ and the current day in $e_2$ must be at least $1$ (in favor of the preceding vertex being larger).\n",
    "The complexity of this constraint is actually quite small, since all the relevant $p \\in P$ are only the ones containing $w = week(e_2) , \\, (h,d,w) \\in P$\n",
    "$$\\sum_{r \\in R} \\, \\sum_{(h,d,w) \\in P} x_{e_2,r,(h,d,week(e_2)} * d - \\sum_{r \\in R} \\, \\sum_{(h,d,w) \\in P} x_{e_1,r,(h,d,week(e_1)} * d \\geq 1, \\, \\forall e_1e_2 \\in A, \\, \\forall e_2 \\in E$$"
   ]
  },
  {
   "cell_type": "markdown",
   "metadata": {},
   "source": [
    "For each course, there may only be one event per day for each student.\n",
    "$$\\sum_{r \\in R} \\sum_{e \\in SE} \\sum_{h' \\in H_{d,w}} x_{e,r,(h',d,w)} \\leq 1, \\, \\forall (h,d,w) \\in P, \\, \\forall SE \\in U$$"
   ]
  },
  {
   "cell_type": "markdown",
   "metadata": {},
   "source": [
    "We should of course also handle the case that the events do not exceed the day (eg a lecture of duration 2 may never begin at $final_{d,w} - \\ell(e) + 1$, final being the final hour slot of the day.\n",
    "$$ \\sum_{(d,w) \\in P} x_{e,r,(h,d,w)}, \\, \\forall e \\in E , \\, \\forall r \\in R$$"
   ]
  },
  {
   "cell_type": "markdown",
   "metadata": {},
   "source": [
    "### Soft constraints"
   ]
  },
  {
   "cell_type": "markdown",
   "metadata": {},
   "source": [
    "The soft constraints are where the quality of the model is gained."
   ]
  },
  {
   "cell_type": "markdown",
   "metadata": {},
   "source": [
    "Discomfort is minimized in regard to bad slots.\n",
    "We let $O$ be the set of $c_p$ where $p \\in P$ and $c \\in \\mathbb{N}$, $c$ being an arbitrary weight of how \"bad\" a timeslot is.\n",
    "$$\\alpha = \\sum_{(h,d,w) \\in P} \\, \\sum_{e \\in E} \\, \\sum_{r \\in R} \\, \\left( \\sum^h_{i=max(0, h - \\ell(e) + 1)} x_{e,r,(i,d,w)} \\right) * c_{h,d,w}$$"
   ]
  },
  {
   "cell_type": "markdown",
   "metadata": {},
   "source": [
    "The number of events per day for a teacher is minimized, it should be noted that $(d,w) \\in P$ are all **distinct** $(d,w)$ pairs.\n",
    "We find the maximum lectures $ml$ of any one day for any one teacher, this should be minimized. An average case minimization is harder to formulate.\n",
    "$$ml >= \\sum_{e \\in d_e} \\, \\sum_{h' \\in H_{d,w}} \\, \\sum_{r \\in R} x_{e,r,(h',d,w)}, \\, \\forall (d,w) \\in P, \\, \\forall d_e \\in D$$"
   ]
  },
  {
   "cell_type": "markdown",
   "metadata": {},
   "source": [
    "The number of events per day for a teacher is minimized, it should be noted that $(d,w) \\in P$ are all **distinct** $(d,w)$ pairs.\n",
    "$$y = \\frac{\\sum_{d_e \\in D} \\, \\sum_{(d,w) \\in P} \\, min \\left(0, \\left( \\sum_{e \\in d_e} \\sum_{r \\in R} \\sum_{h' \\in H_{d,w}} x_{e,r,(h',d,w)} \\right)^2 - 1 \\right)}{|D|}$$"
   ]
  },
  {
   "cell_type": "markdown",
   "metadata": {},
   "source": [
    "Here I sum up all events for a teacher for a given day in all rooms. I square the result to enforce a large growth, diving by the amount of teachers for normalization in respect to the range."
   ]
  },
  {
   "cell_type": "markdown",
   "metadata": {},
   "source": [
    "## Code"
   ]
  },
  {
   "cell_type": "markdown",
   "metadata": {},
   "source": [
    "### Initilization"
   ]
  },
  {
   "cell_type": "code",
   "execution_count": 3,
   "metadata": {},
   "outputs": [],
   "source": [
    "import pyomo.environ as po\n",
    "import src.data as imp\n",
    "import time\n",
    "\n",
    "dataImporter = imp.Data(\"data/small\")\n",
    "\n",
    "slots = dataImporter.slots\n",
    "banned = dataImporter.banned\n",
    "events = dataImporter.events\n",
    "teachers = dataImporter.teachers\n",
    "students = dataImporter.students\n",
    "rooms = dataImporter.rooms"
   ]
  },
  {
   "cell_type": "code",
   "execution_count": 62,
   "metadata": {},
   "outputs": [],
   "source": [
    "class ModelDataMapping:\n",
    "    def __init__(self, E, P, R, D, T, B, S, U, O, namedEvents, indexedRooms, teacherPairs, courseIdToTeacherMapping, eventLookup, eventIdToCourseId, dayWeekMaxHrPairs):\n",
    "        self.E = E\n",
    "        self.P = P\n",
    "        self.R = R\n",
    "        self.D = D\n",
    "        self.T = T\n",
    "        self.B = B\n",
    "        self.S = S\n",
    "        self.U = U\n",
    "        self.O = O\n",
    "        self.namedEvents = namedEvents\n",
    "        self.indexedRooms = indexedRooms\n",
    "        self.teacherPairs = teacherPairs\n",
    "        self.courseIdToTeacherMapping = courseIdToTeacherMapping\n",
    "        self.eventLookup = eventLookup\n",
    "        self.eventIdToCourseId = eventIdToCourseId\n",
    "        self.dayWeekMaxHrPairs = dayWeekMaxHrPairs\n",
    "\n",
    "def prepareModel(events, students, teachers, slots, banned, rooms):\n",
    "    print(\"Preparing data\")\n",
    "    rooms_as_list = list(rooms.items())\n",
    "    \n",
    "    R = list(range(len(rooms_as_list)))\n",
    "    namedEvents = [(eventSet, e) for eventSet in events for e in events[eventSet]]\n",
    "    E = list(range(len(namedEvents)))\n",
    "    P = [(s[\"hour\"], s[\"day\"], s[\"week\"]) for s in slots]\n",
    "    preparedBanned = [(b[\"hour\"], b[\"day\"], b[\"week\"]) for b in banned]\n",
    "    \n",
    "    eventIdToIndex = dict([(e[1][\"id\"], i) for i, e in enumerate(namedEvents)])\n",
    "    teacherPairs = list(teachers.items())\n",
    "    T = range(len(teacherPairs))\n",
    "\n",
    "    def indexedTeacherEvents():\n",
    "        for teacherId, eventsForTeacher in teacherPairs:\n",
    "            onlyEvents = [e[\"events\"] for e in eventsForTeacher]\n",
    "\n",
    "            flattenedEvents = [eventIdToIndex[b] for a in onlyEvents for b in a]\n",
    "\n",
    "            yield flattenedEvents\n",
    "    \n",
    "    D = list(indexedTeacherEvents())\n",
    "    \n",
    "    studentPairs = list(students.items())\n",
    "    S = range(len(studentPairs))\n",
    "    \n",
    "    def indexedStudentEvents():\n",
    "        for studentId, eventsForStudent in studentPairs:\n",
    "            onlyEvents = [e[\"events\"] for e in eventsForStudent]\n",
    "\n",
    "            flattenedEvents = [eventIdToIndex[b] for a in onlyEvents for b in a]\n",
    "\n",
    "            yield flattenedEvents\n",
    "            \n",
    "    U = list(indexedStudentEvents())\n",
    "    \n",
    "    def busyRoomsForTime():\n",
    "        # For O(1) lookup\n",
    "        PAsSet = set(P)\n",
    "        \n",
    "        def formatEvent(e):\n",
    "            return (e[\"hour\"], e[\"day\"], e[\"week\"])\n",
    "\n",
    "        for roomIndex, r in enumerate(rooms_as_list):\n",
    "            (k, v) = r\n",
    "\n",
    "            formattedBusyEvents = list(map(lambda e: formatEvent(e), v[\"busy\"]))\n",
    "            \n",
    "            # filter out all events that do not exist in the timeslots data-set\n",
    "            def removeInvalidTimes():\n",
    "                for p in formattedBusyEvents:\n",
    "                    if p in PAsSet:\n",
    "                        yield p\n",
    "            \n",
    "            yield (roomIndex, list(removeInvalidTimes()))\n",
    "\n",
    "    B = dict(busyRoomsForTime())\n",
    "    \n",
    "    # courseId to teacher mapping\n",
    "    courseIdToTeacherMapping = [ [] for i in range(len(E)) ]\n",
    "\n",
    "    for teacherIdx, d in enumerate(D):\n",
    "        for e in d:\n",
    "            courseIdToTeacherMapping[e].append(teacherIdx)\n",
    "            \n",
    "    def eventLookup():\n",
    "        for i, (k, v) in enumerate(namedEvents):\n",
    "            yield (v[\"id\"], i)\n",
    "            \n",
    "    def eventIdToCourseId():\n",
    "        for courseId, event in namedEvents:\n",
    "            yield (event[\"id\"], courseId)\n",
    "            \n",
    "    def dayWeekMaxHrPairs():\n",
    "        def genDWHPairs():\n",
    "            for (h,d,w) in P:\n",
    "                yield ((d,w), h)\n",
    "        \n",
    "        dwh = list(genDWHPairs())\n",
    "        \n",
    "        for k in dict(dwh):\n",
    "            yield (k, max(map(lambda x: x[1], filter(lambda x: x[0] == k, dwh))))\n",
    "            \n",
    "    EidtoCid = dict(list(eventIdToCourseId()))\n",
    "    \n",
    "    elook = dict(list(eventLookup()))\n",
    "    \n",
    "    dwmhrp = dict(dayWeekMaxHrPairs())\n",
    "            \n",
    "    def orderStudentClassesIntoCourses():\n",
    "        for u in U:\n",
    "            # Get course type\n",
    "            courseIdMap = {}\n",
    "            \n",
    "            for e in u:\n",
    "                courseId = namedEvents[e][0]\n",
    "                courseIdMap.setdefault(courseId,[]).append(e)\n",
    "                \n",
    "            yield courseIdMap\n",
    "            \n",
    "    U = list(orderStudentClassesIntoCourses())\n",
    "    \n",
    "    def genO():\n",
    "        for ((d,w), maxHr) in dwmhrp.items():\n",
    "            # lectures in hr 8 for all is rating 4 bad\n",
    "            # lectuers in hr 16 for mon, tues, wed, thur is rating 2 bad\n",
    "            # lectures in hr 17 for -||- is rating 3 bad\n",
    "            # lectures in hr 15, 16 and 17 for fri is rating 5 bad\n",
    "            def fillNs(start, end, n = 0):\n",
    "                return list(map(lambda h: ((h,d,w), n), range(start, end + 1)))\n",
    "            \n",
    "            offset = 8\n",
    "            \n",
    "            if d in list(range(0, 4)):\n",
    "                out = [((8 - offset,d,w), 4)] + fillNs(9 - offset,15 - offset) + [((16 - offset,d,w), 2), ((17 - offset,d,w), 3)] + fillNs(18 - offset,maxHr, 10)\n",
    "            else:\n",
    "                out = [((8 - offset,d,w), 4)] + fillNs(9 - offset,14 - offset) + [((15 - offset,d,w), 5), ((16 - offset,d,w), 5), ((17 - offset,d,w), 5)]  + fillNs(18 - offset,maxHr, 10)\n",
    "                \n",
    "            for o in out:\n",
    "                yield o\n",
    "                \n",
    "    O = dict(list(genO()))\n",
    "            \n",
    "    return ModelDataMapping(E, P, R, D, T, B, S, U, O, namedEvents, rooms_as_list, teacherPairs, courseIdToTeacherMapping, elook, EidtoCid, dwmhrp)\n",
    "        "
   ]
  },
  {
   "cell_type": "code",
   "execution_count": 66,
   "metadata": {},
   "outputs": [],
   "source": [
    "def solveModel(preparedData):\n",
    "    E = preparedData.E\n",
    "    P = preparedData.P\n",
    "    R = preparedData.R\n",
    "    D = preparedData.D\n",
    "    T = preparedData.T\n",
    "    B = preparedData.B\n",
    "    S = preparedData.S\n",
    "    U = preparedData.U\n",
    "    O = preparedData.O\n",
    "    \n",
    "    def duration(eventIndex):\n",
    "        return preparedData.namedEvents[eventIndex][1][\"duration\"]\n",
    "    \n",
    "    print(\"Generating 5d/3d matrix of size\", len(E) * len(R) * len(P))\n",
    "    domain = [(e, r, p[0], p[1], p[2]) for e in E for r in R for p in P]\n",
    "    \n",
    "    m = po.ConcreteModel(\"timetable\")\n",
    "    \n",
    "    print(\"Adding variable x\")\n",
    "    m.x = po.Var(domain, bounds = (0, 1), within=po.Binary)\n",
    "    \n",
    "    print(\"Adding soft constraints\")\n",
    "    \n",
    "    print(\"Adding alpha\")\n",
    "    alpha = sum(\n",
    "        sum(\n",
    "            sum(\n",
    "                sum(m.x[(e,r,(i, d, w))] for i in range(max(0, h - duration(e) + 1), h + 1)) * O[(h,d,w)]\n",
    "            for r in R)\n",
    "        for e in E)\n",
    "    for (h,d,w) in P)\n",
    "                \n",
    "    \n",
    "    m.value = po.Objective(expr=alpha, sense=po.minimize)\n",
    "    \n",
    "    print(\"Adding hard constriants\")\n",
    "    \n",
    "    m.scheduled = po.ConstraintList()\n",
    "    \n",
    "    print(\"Adding scheduled constraint\")\n",
    "    \n",
    "    def weekFor(e):\n",
    "        return preparedData.namedEvents[e][1][\"week\"]\n",
    "    \n",
    "    for e in E:\n",
    "        weekForE = weekFor(e)\n",
    "        relevantPs = list(filter(lambda p: p[2] == weekForE, P))\n",
    "        irellevantPs = list(filter(lambda p: p[2] != weekForE, P))\n",
    "        \n",
    "        m.scheduled.add(expr = sum(m.x[(e,r,h,d,w)] for (h,d,w) in relevantPs for r in R) == 1)\n",
    "        m.scheduled.add(expr = sum(m.x[(e,r,h,d,w)] for (h,d,w) in irellevantPs for r in R) == 0)\n",
    "    \n",
    "    m.one_event_per_student_day = po.ConstraintList()\n",
    "    \n",
    "    print(\"Adding one event per course per day per student\")\n",
    "    for u in U:\n",
    "        for courseId, SE in u.items():\n",
    "             for ((d,w), maxHr) in preparedData.dayWeekMaxHrPairs.items():\n",
    "                rangeToMaxHr = range(0, maxHr + 1)\n",
    "\n",
    "                m.one_event_per_student_day.add(sum(sum(sum(m.x[e,r,h,d,w] for h in rangeToMaxHr) for e in SE) for r in R) <= 1)\n",
    "                    \n",
    "            \n",
    "    \n",
    "    m.presedence = po.ConstraintList()\n",
    "    \n",
    "    def getActivationDay(e, relevantPs):\n",
    "        return sum(sum(m.x[e,r,h,d,w] * d for (h, d, w) in relevantPs) for r in R)\n",
    "    \n",
    "    print(\"Adding presedence graph\")\n",
    "    for e2 in E:\n",
    "        in_arcs = preparedData.namedEvents[e2][1][\"in_arcs\"]\n",
    "        weekForE = weekFor(e2)\n",
    "        relevantPs = list(filter(lambda p: p[2] == weekForE, P))\n",
    "        \n",
    "        for arcSourceId in in_arcs:\n",
    "            e1 = preparedData.eventLookup[arcSourceId]\n",
    "            \n",
    "            m.presedence.add(getActivationDay(e2, relevantPs) - getActivationDay(e1, relevantPs) >= 1)\n",
    "    \n",
    "    m.no_teach_busy = po.ConstraintList()\n",
    "    \n",
    "    print(\"Adding no classes in busy period constraint\")\n",
    "    for r in R:\n",
    "        print(\"Adding for room\", r)\n",
    "        for e in E:\n",
    "            for (h,d,w) in B[r]:\n",
    "                m.no_teach_busy.add(sum(m.x[(e,r,(i, d, w))] for i in range(max(0, h - duration(e) + 1), h + 1)) == 0)\n",
    "        \n",
    "    \n",
    "    m.only_teach_one_class = po.ConstraintList()\n",
    "    \n",
    "    print(\"Adding teacher only teaches one class at a time constriants\")\n",
    "    for teacherIdx, de in enumerate(D):\n",
    "        print(\"Adding for teacher\", teacherIdx)\n",
    "        for p in P:\n",
    "            (h, d, w) = p\n",
    "\n",
    "            m.only_teach_one_class.add(sum(sum(sum(m.x[(e,r,(i, d, w))] for i in range(max(0, h - duration(e) + 1), h + 1)) for r in R) for e in de) <= 1)\n",
    "    \n",
    "    m.overlap = po.ConstraintList()\n",
    "    \n",
    "    print(\"Adding overlap constriants\")\n",
    "    for r in R:\n",
    "        print(\"Adding for room\", r)\n",
    "        for p in P:\n",
    "            (h, d, w) = p\n",
    "\n",
    "            m.overlap.add(sum(sum(m.x[(e,r,(i, d, w))] for i in range(max(0, h - duration(e) + 1), h + 1)) for e in E) <= 1)\n",
    "    \n",
    "            \n",
    "    print(\"Solving...\")    \n",
    "        \n",
    "    now = time.time()\n",
    "        \n",
    "    res = po.SolverFactory(\"gurobi\").solve(m, tee=(False))\n",
    "    \n",
    "    later = time.time()\n",
    "    difference = int(later - now)\n",
    "    \n",
    "    print(\"Done in\", difference, \"seconds\")\n",
    "            \n",
    "    return m, res\n",
    "            \n",
    "    "
   ]
  },
  {
   "cell_type": "code",
   "execution_count": 67,
   "metadata": {},
   "outputs": [
    {
     "name": "stdout",
     "output_type": "stream",
     "text": [
      "Preparing data\n",
      "Generating 5d/3d matrix of size 2419200\n",
      "Adding variable x\n",
      "Adding soft constraints\n",
      "Adding alpha\n",
      "Adding hard constriants\n",
      "Adding scheduled constraint\n",
      "Adding one event per course per day per student\n",
      "Adding presedence graph\n",
      "Adding no classes in busy period constraint\n",
      "Adding for room 0\n",
      "Adding for room 1\n",
      "Adding for room 2\n",
      "Adding for room 3\n",
      "Adding for room 4\n",
      "Adding for room 5\n",
      "Adding for room 6\n",
      "Adding for room 7\n",
      "Adding for room 8\n",
      "Adding for room 9\n",
      "Adding for room 10\n",
      "Adding for room 11\n",
      "Adding for room 12\n",
      "Adding for room 13\n",
      "Adding teacher only teaches one class at a time constriants\n",
      "Adding for teacher 0\n",
      "Adding for teacher 1\n",
      "Adding for teacher 2\n",
      "Adding for teacher 3\n",
      "Adding for teacher 4\n",
      "Adding for teacher 5\n",
      "Adding for teacher 6\n",
      "Adding for teacher 7\n",
      "Adding overlap constriants\n",
      "Adding for room 0\n",
      "Adding for room 1\n",
      "Adding for room 2\n",
      "Adding for room 3\n",
      "Adding for room 4\n",
      "Adding for room 5\n",
      "Adding for room 6\n",
      "Adding for room 7\n",
      "Adding for room 8\n",
      "Adding for room 9\n",
      "Adding for room 10\n",
      "Adding for room 11\n",
      "Adding for room 12\n",
      "Adding for room 13\n",
      "Solving...\n",
      "Done in 208 seconds\n"
     ]
    }
   ],
   "source": [
    "modelDataMapping = prepareModel(events, students, teachers, slots, banned, rooms)\n",
    "#for k, v in modelDataMapping.B.items():\n",
    "#    l = list(filter(lambda x: x[0] > 11, v))\n",
    "#    if len(l) != 0:\n",
    "#        print(l)\n",
    "\n",
    "#print(modelDataMapping.O[(11,0,6)])\n",
    "\n",
    "#for e1 in modelDataMapping.E:\n",
    "#    in_arcs = modelDataMapping.namedEvents[e1][1][\"in_arcs\"]\n",
    "#    week1 = modelDataMapping.namedEvents[e1][1][\"week\"]\n",
    "\n",
    "#    for arcSourceId in in_arcs:\n",
    "#        e2 = modelDataMapping.eventLookup[arcSourceId]\n",
    "#        week2 = modelDataMapping.namedEvents[e2][1][\"week\"]\n",
    "        \n",
    "#        if week1 == week2:\n",
    "#            print(e1, e2)\n",
    "\n",
    "model, result = solveModel(modelDataMapping)"
   ]
  },
  {
   "cell_type": "code",
   "execution_count": 142,
   "metadata": {},
   "outputs": [
    {
     "data": {
      "image/png": "[encoded data removed]",
      "text/plain": [
       "<Figure size 1080x576 with 1 Axes>"
      ]
     },
     "metadata": {
      "needs_background": "light"
     },
     "output_type": "display_data"
    },
    {
     "data": {
      "image/png": "[encoded data removed]",
      "text/plain": [
       "<Figure size 1080x576 with 1 Axes>"
      ]
     },
     "metadata": {
      "needs_background": "light"
     },
     "output_type": "display_data"
    }
   ],
   "source": [
    "import matplotlib.colors as mcolors\n",
    "\n",
    "color_map = {}\n",
    "\n",
    "colorsAsList = list(mcolors.TABLEAU_COLORS.items())\n",
    "\n",
    "for i, k in enumerate(events):\n",
    "    color_map[k] = colorsAsList[i]\n",
    "    \n",
    "dayStart = 8\n",
    "    \n",
    "def plotFor(week, room):\n",
    "    timeslots = [ [] for i in range(7) ]\n",
    "\n",
    "    # plot data\n",
    "    for e in modelDataMapping.E:\n",
    "        for r in modelDataMapping.R:\n",
    "            if r != room:\n",
    "                continue\n",
    "\n",
    "            for (h, d, w) in modelDataMapping.P:\n",
    "                if w != week:\n",
    "                    continue\n",
    "                    \n",
    "                s = set(modelDataMapping.B[r])\n",
    "                \n",
    "                namedEvent = modelDataMapping.namedEvents[e]\n",
    "                \n",
    "                if (h, d, w) in s:\n",
    "                    timeslots[d].append(Timeslot(h + dayStart, h + dayStart + 1, \"red\", \"\"))\n",
    "                    continue\n",
    "\n",
    "                value = po.value(model.x[e,r,h,d,w])\n",
    "\n",
    "                if value != 0:\n",
    "                    color = color_map[namedEvent[0]]\n",
    "\n",
    "                    teachersThatCanTeachThis = [str(teacherIdx) for teacherIdx in modelDataMapping.courseIdToTeacherMapping[e]]\n",
    "\n",
    "                    timeslots[d].append(Timeslot(h + dayStart, h + dayStart + namedEvent[1][\"duration\"], color, namedEvent[1][\"id\"] + \"\\n\" + \", \".join(teachersThatCanTeachThis)))\n",
    "\n",
    "    plotWeek(timeslots, (7, 22))\n",
    "\n",
    "\n",
    "for e in [3,2]:#modelDataMapping.E[:10]:\n",
    "    for r in modelDataMapping.R:\n",
    "        for p in modelDataMapping.P:\n",
    "            if po.value(model.x[e,r,p]) == 1:\n",
    "                #print(e,r,p)\n",
    "                plotFor(week=p[2],room=r)\n",
    "    \n",
    "    \n",
    "#plotFor(week=6, room=4)"
   ]
  },
  {
   "cell_type": "markdown",
   "metadata": {},
   "source": [
    "## "
   ]
  }
 ],
 "metadata": {
  "kernelspec": {
   "display_name": "Python 3",
   "language": "python",
   "name": "python3"
  },
  "language_info": {
   "codemirror_mode": {
    "name": "ipython",
    "version": 3
   },
   "file_extension": ".py",
   "mimetype": "text/x-python",
   "name": "python",
   "nbconvert_exporter": "python",
   "pygments_lexer": "ipython3",
   "version": "3.7.7"
  }
 },
 "nbformat": 4,
 "nbformat_minor": 4
}
